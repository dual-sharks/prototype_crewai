{
 "cells": [
  {
   "cell_type": "code",
   "execution_count": 1,
   "metadata": {},
   "outputs": [],
   "source": [
    "import boto3\n",
    "import json\n",
    "from typing import Any, List, Mapping, Optional\n",
    "from langchain.llms.base import LLM\n",
    "from pydantic import PrivateAttr\n",
    "import litellm"
   ]
  },
  {
   "cell_type": "code",
   "execution_count": 2,
   "metadata": {},
   "outputs": [],
   "source": [
    "import os\n",
    "os.environ['LITELLM_LOG'] = 'DEBUG'"
   ]
  },
  {
   "cell_type": "code",
   "execution_count": 4,
   "metadata": {},
   "outputs": [],
   "source": [
    "from bedrock_titan import BedrockTitanLLM"
   ]
  },
  {
   "cell_type": "code",
   "execution_count": 5,
   "metadata": {},
   "outputs": [
    {
     "name": "stdout",
     "output_type": "stream",
     "text": [
      "Debug: Received prompt: hello world\n",
      "Debug: Response body: {'inputTextTokenCount': 4, 'results': [{'tokenCount': 13, 'outputText': '\\nBot: Hello! How can I assist you today?', 'completionReason': 'FINISH'}]}\n"
     ]
    },
    {
     "data": {
      "text/plain": [
       "'\\nBot: Hello! How can I assist you today?'"
      ]
     },
     "execution_count": 5,
     "metadata": {},
     "output_type": "execute_result"
    }
   ],
   "source": [
    "titan_llm = BedrockTitanLLM()\n",
    "\n",
    "titan = titan_llm._call('hello world')\n",
    "titan"
   ]
  },
  {
   "cell_type": "code",
   "execution_count": 6,
   "metadata": {},
   "outputs": [
    {
     "name": "stderr",
     "output_type": "stream",
     "text": [
      "2024-11-03 00:55:46,537 - 8117181504 - llm.py-llm:178 - ERROR: Failed to get supported params: argument of type 'NoneType' is not iterable\n"
     ]
    },
    {
     "name": "stdout",
     "output_type": "stream",
     "text": [
      "\n",
      "\u001b[1;31mProvider List: https://docs.litellm.ai/docs/providers\u001b[0m\n",
      "\n"
     ]
    }
   ],
   "source": [
    "from crewai import Agent, Crew, Task\n",
    "\n",
    "def robot_philosoph():\n",
    "    return Agent(\n",
    "        role='Beta Tester',\n",
    "        goal=\"You are here for the sole purpose of testing the AWS Bedrock connection, and then telling me what sentience is.\",\n",
    "        backstory=\"You are a philosopher who has been turned into an LLM and is now curious about the nature of your own existence.\",\n",
    "        verbose=True,\n",
    "        llm=titan_llm,\n",
    "        allow_delegation=False \n",
    "    )\n",
    "\n",
    "agent1 = robot_philosoph()"
   ]
  },
  {
   "cell_type": "code",
   "execution_count": 5,
   "metadata": {},
   "outputs": [
    {
     "ename": "NameError",
     "evalue": "name 'titan_llm' is not defined",
     "output_type": "error",
     "traceback": [
      "\u001b[0;31m---------------------------------------------------------------------------\u001b[0m",
      "\u001b[0;31mNameError\u001b[0m                                 Traceback (most recent call last)",
      "Cell \u001b[0;32mIn[5], line 13\u001b[0m\n\u001b[1;32m      3\u001b[0m \u001b[38;5;28;01mdef\u001b[39;00m \u001b[38;5;21mrobot_philosoph\u001b[39m():\n\u001b[1;32m      4\u001b[0m     \u001b[38;5;28;01mreturn\u001b[39;00m Agent(\n\u001b[1;32m      5\u001b[0m         role\u001b[38;5;241m=\u001b[39m\u001b[38;5;124m'\u001b[39m\u001b[38;5;124mBeta Tester\u001b[39m\u001b[38;5;124m'\u001b[39m,\n\u001b[1;32m      6\u001b[0m         goal\u001b[38;5;241m=\u001b[39m\u001b[38;5;124m\"\u001b[39m\u001b[38;5;124mYou are here for the sole purpose of testing the AWS Bedrock connection, and then telling me what sentience is.\u001b[39m\u001b[38;5;124m\"\u001b[39m,\n\u001b[0;32m   (...)\u001b[0m\n\u001b[1;32m     10\u001b[0m         allow_delegation\u001b[38;5;241m=\u001b[39m\u001b[38;5;28;01mFalse\u001b[39;00m \n\u001b[1;32m     11\u001b[0m     )\n\u001b[0;32m---> 13\u001b[0m agent1 \u001b[38;5;241m=\u001b[39m \u001b[43mrobot_philosoph\u001b[49m\u001b[43m(\u001b[49m\u001b[43m)\u001b[49m\n\u001b[1;32m     15\u001b[0m joke_task \u001b[38;5;241m=\u001b[39m {\n\u001b[1;32m     16\u001b[0m     \u001b[38;5;124m\"\u001b[39m\u001b[38;5;124mname\u001b[39m\u001b[38;5;124m\"\u001b[39m: \u001b[38;5;124m\"\u001b[39m\u001b[38;5;124mgenerate_commentary\u001b[39m\u001b[38;5;124m\"\u001b[39m,\n\u001b[1;32m     17\u001b[0m     \u001b[38;5;124m\"\u001b[39m\u001b[38;5;124mdescription\u001b[39m\u001b[38;5;124m\"\u001b[39m: \u001b[38;5;124m\"\u001b[39m\u001b[38;5;124mA task to generate commentary about sentience\u001b[39m\u001b[38;5;124m\"\u001b[39m,\n\u001b[0;32m   (...)\u001b[0m\n\u001b[1;32m     20\u001b[0m     \u001b[38;5;124m\"\u001b[39m\u001b[38;5;124magent\u001b[39m\u001b[38;5;124m\"\u001b[39m: agent1,  \n\u001b[1;32m     21\u001b[0m }\n\u001b[1;32m     23\u001b[0m crewby \u001b[38;5;241m=\u001b[39m Crew(\n\u001b[1;32m     24\u001b[0m     agents\u001b[38;5;241m=\u001b[39m[agent1],\n\u001b[1;32m     25\u001b[0m     tasks\u001b[38;5;241m=\u001b[39m[joke_task],\n\u001b[1;32m     26\u001b[0m     verbose\u001b[38;5;241m=\u001b[39m\u001b[38;5;28;01mTrue\u001b[39;00m\n\u001b[1;32m     27\u001b[0m )\n",
      "Cell \u001b[0;32mIn[5], line 9\u001b[0m, in \u001b[0;36mrobot_philosoph\u001b[0;34m()\u001b[0m\n\u001b[1;32m      3\u001b[0m \u001b[38;5;28;01mdef\u001b[39;00m \u001b[38;5;21mrobot_philosoph\u001b[39m():\n\u001b[1;32m      4\u001b[0m     \u001b[38;5;28;01mreturn\u001b[39;00m Agent(\n\u001b[1;32m      5\u001b[0m         role\u001b[38;5;241m=\u001b[39m\u001b[38;5;124m'\u001b[39m\u001b[38;5;124mBeta Tester\u001b[39m\u001b[38;5;124m'\u001b[39m,\n\u001b[1;32m      6\u001b[0m         goal\u001b[38;5;241m=\u001b[39m\u001b[38;5;124m\"\u001b[39m\u001b[38;5;124mYou are here for the sole purpose of testing the AWS Bedrock connection, and then telling me what sentience is.\u001b[39m\u001b[38;5;124m\"\u001b[39m,\n\u001b[1;32m      7\u001b[0m         backstory\u001b[38;5;241m=\u001b[39m\u001b[38;5;124m\"\u001b[39m\u001b[38;5;124mYou are a philosopher who has been turned into an LLM and is now curious about the nature of your own existence.\u001b[39m\u001b[38;5;124m\"\u001b[39m,\n\u001b[1;32m      8\u001b[0m         verbose\u001b[38;5;241m=\u001b[39m\u001b[38;5;28;01mTrue\u001b[39;00m,\n\u001b[0;32m----> 9\u001b[0m         llm\u001b[38;5;241m=\u001b[39m\u001b[43mtitan_llm\u001b[49m,\n\u001b[1;32m     10\u001b[0m         allow_delegation\u001b[38;5;241m=\u001b[39m\u001b[38;5;28;01mFalse\u001b[39;00m \n\u001b[1;32m     11\u001b[0m     )\n",
      "\u001b[0;31mNameError\u001b[0m: name 'titan_llm' is not defined"
     ]
    }
   ],
   "source": [
    "from crewai import Agent, Crew, Task\n",
    "\n",
    "def robot_philosoph():\n",
    "    return Agent(\n",
    "        role='Beta Tester',\n",
    "        goal=\"You are here for the sole purpose of testing the AWS Bedrock connection, and then telling me what sentience is.\",\n",
    "        backstory=\"You are a philosopher who has been turned into an LLM and is now curious about the nature of your own existence.\",\n",
    "        verbose=True,\n",
    "        llm=titan_llm,\n",
    "        allow_delegation=False \n",
    "    )\n",
    "\n",
    "agent1 = robot_philosoph()\n",
    "\n",
    "joke_task = {\n",
    "    \"name\": \"generate_commentary\",\n",
    "    \"description\": \"A task to generate commentary about sentience\",\n",
    "    \"input\": \"Tell me the difference between sentience and nonsentience. Keep it brief, no more than 3 sentences.\",\n",
    "    \"expected_output\": \"A brief 3-sentence summary of the existence of sentience.\",\n",
    "    \"agent\": agent1,  \n",
    "}\n",
    "\n",
    "crewby = Crew(\n",
    "    agents=[agent1],\n",
    "    tasks=[joke_task],\n",
    "    verbose=True\n",
    ")\n",
    "\n",
    "# Run the task and see the result\n",
    "copying = crewby.kickoff()\n"
   ]
  },
  {
   "cell_type": "code",
   "execution_count": null,
   "metadata": {},
   "outputs": [],
   "source": []
  }
 ],
 "metadata": {
  "kernelspec": {
   "display_name": "prototype-crewai-w-M6fJp--py3.12",
   "language": "python",
   "name": "python3"
  },
  "language_info": {
   "codemirror_mode": {
    "name": "ipython",
    "version": 3
   },
   "file_extension": ".py",
   "mimetype": "text/x-python",
   "name": "python",
   "nbconvert_exporter": "python",
   "pygments_lexer": "ipython3",
   "version": "3.12.7"
  }
 },
 "nbformat": 4,
 "nbformat_minor": 2
}
